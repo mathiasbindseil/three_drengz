{
 "cells": [
  {
   "cell_type": "markdown",
   "metadata": {},
   "source": [
    "### Predicting transfer value of football players using ML (statistics and additional attributes)"
   ]
  },
  {
   "cell_type": "code",
   "execution_count": 1,
   "metadata": {},
   "outputs": [],
   "source": [
    "# Importing relevant libaries\n",
    "%matplotlib inline\n",
    "import numpy as np\n",
    "import pandas as pd\n",
    "import matplotlib.pyplot as plt\n",
    "from IPython.display import YouTubeVideo\n",
    "import time\n",
    "from selenium import webdriver\n",
    "from webdriver_manager.chrome import ChromeDriverManager\n",
    "from selenium.webdriver.common.keys import Keys\n",
    "from selenium.webdriver.common.by import By\n",
    "from bs4 import BeautifulSoup, NavigableString, Tag\n",
    "import os\n"
   ]
  },
  {
   "cell_type": "code",
   "execution_count": 2,
   "metadata": {},
   "outputs": [],
   "source": [
    "#Specify relevant seasons and leagues\n",
    "years = ['2017-2018','2018-2019','2019-2020','2019-2020','2021-2022']\n",
    "leagues = ['spanish-la-liga','italian-serie-a','german-bundesliga','english-premier-league','rest-of-europe']\n",
    "\n",
    "#Test\n",
    "years_test = ['2017-2018','2018-2019']\n",
    "leagues_test = ['english-premier-league']"
   ]
  },
  {
   "cell_type": "code",
   "execution_count": 3,
   "metadata": {},
   "outputs": [],
   "source": [
    "def scrape(driver,id):\n",
    "    '''\n",
    "    Sets up a function for scraping data based on a given driver\n",
    "\n",
    "    args: driver (defines which driver to scrape from)\n",
    "    '''\n",
    "\n",
    "    soup = BeautifulSoup(driver.page_source, 'lxml')\n",
    "    table_node = soup.find(id=id)\n",
    "\n",
    "    columns_html = table_node.thead.find_all('th')\n",
    "        # Extract the text\n",
    "    columns = []\n",
    "    for col in columns_html:\n",
    "        columns.append(col.text)\n",
    "    columns = columns[7:]\n",
    "\n",
    "    rows_list = table_node.tbody.find_all('tr')\n",
    "\n",
    "    data = []\n",
    "    for row_node in rows_list:\n",
    "        # if (rows_list.index(row_node) % 25 == 0):\n",
    "        try:\n",
    "            row = []\n",
    "            for child in row_node.children:\n",
    "                row.append(child.text)\n",
    "            data.append(row)\n",
    "        except:\n",
    "            pass\n",
    "    \n",
    "    return columns, data\n",
    "\n",
    "def clean_statistics(columns,data,period):\n",
    "    df_out = pd.DataFrame(data,columns=columns)\\\n",
    "        .iloc[:,:-1]\\\n",
    "        .assign(Nation= lambda x: x['Nation'].str.split(' ').str[1],\n",
    "            Pos = lambda x: x['Pos'].str.split(',').str[0], \n",
    "            Comp = lambda x: x['Comp'].str.split(None,1).str[1],\n",
    "            # Pos = lambda x: pd.Categorical(x['Pos']),\n",
    "            Squad = lambda x: pd.Categorical(x['Squad']),\n",
    "            Year = period[0:4])\n",
    "            # Nation = lambda x: pd.Categorical(x['Nation']))\n",
    "\n",
    "    return df_out"
   ]
  },
  {
   "cell_type": "code",
   "execution_count": 34,
   "metadata": {},
   "outputs": [
    {
     "name": "stderr",
     "output_type": "stream",
     "text": [
      "<ipython-input-34-fd482f8cce96>:7: DeprecationWarning: executable_path has been deprecated, please pass in a Service object\n",
      "  driver = webdriver.Chrome(ChromeDriverManager().install()) #driver\n"
     ]
    },
    {
     "name": "stdout",
     "output_type": "stream",
     "text": [
      "Number of observations in main dataset is: 5347\n"
     ]
    }
   ],
   "source": [
    "def get_data(periods):\n",
    "        \n",
    "    df_list = []\n",
    "    id = 'stats_standard'\n",
    "    for period in periods:\n",
    "        url = f'https://fbref.com/en/comps/Big5/{period}/stats/players/{period}-Big-5-European-Leagues-Stats'\n",
    "        driver = webdriver.Chrome(ChromeDriverManager().install()) #driver\n",
    "        driver.get(url)\n",
    "        time.sleep(3)\n",
    "        cookie = driver.find_element(By.CLASS_NAME,'qc-cmp2-summary-buttons').click()\n",
    "\n",
    "        columns, data = scrape(driver,id)\n",
    "\n",
    "        df_list.append(clean_statistics(columns, data, period))\n",
    "\n",
    "        # time.sleep(10)\n",
    "        \n",
    "    main_df = pd.concat(df_list)\n",
    "    print(f'Number of observations in main dataset is: {len(main_df)}')\n",
    "    return main_df\n",
    "\n",
    "#Call function\n",
    "stats_df = get_data(years_test)\n",
    "stats_df.to_csv('Stats.csv')\n"
   ]
  },
  {
   "cell_type": "code",
   "execution_count": 45,
   "metadata": {},
   "outputs": [],
   "source": [
    "stats_df['Year']= pd.to_datetime(stats_df['Year'], format='%Y')\n",
    "stats_df['Year']= pd.DatetimeIndex(stats_df['Year']).year\n"
   ]
  },
  {
   "cell_type": "code",
   "execution_count": 5,
   "metadata": {},
   "outputs": [],
   "source": [
    "def scrape_transferprice(driver,id):\n",
    "    soup = BeautifulSoup(driver.page_source, 'lxml')\n",
    "    table_node = soup.find(id=id)\n",
    "\n",
    "    columns_html = table_node.thead.find_all('th')\n",
    "        # Extract the text\n",
    "    transfer_columns = []\n",
    "    for col in columns_html:\n",
    "        transfer_columns.append(col.text)\n",
    "\n",
    "    rows_list = table_node.tbody.find_all('tr')\n",
    "\n",
    "    transfer_data = []\n",
    "    for row_node in rows_list:\n",
    "        row = []\n",
    "        for child in row_node.children:\n",
    "            try:\n",
    "                row.append(child.text)\n",
    "            except:\n",
    "                pass\n",
    "        transfer_data.append(row)\n",
    "    \n",
    "    return transfer_columns, transfer_data\n",
    "\n",
    "def clean_transfer(columns,data,period):    \n",
    "    transfer_df = pd.DataFrame(data, columns=columns)\\\n",
    "                .assign(When = lambda x: x['When'].str.split(' ').str[0],\n",
    "                    Price = lambda x: x['Price'].str.split('(?:(.*\\d))?(?:([a-zA-Z]+))?').str[1],\n",
    "                    Player = lambda x: x['Player'].str.rsplit(' ').str[:-1].apply(' '.join),\n",
    "                    Year = int(period[0:4])-1)\\\n",
    "                .query(\"When != 'Jan'\")\\\n",
    "                .replace(to_replace='None', value=np.nan).dropna()\n",
    "\n",
    "    transfer_df.drop(transfer_df.columns[[0,1,4]],axis=1, inplace=True)\n",
    "\n",
    "\n",
    "    return transfer_df                         "
   ]
  },
  {
   "cell_type": "code",
   "execution_count": 6,
   "metadata": {},
   "outputs": [],
   "source": [
    "def get_transferprice(leagues,years):\n",
    "    id = 'epl'\n",
    "    df_transferprice = []\n",
    "    for league in leagues:\n",
    "\n",
    "        df_transferprice_ = []\n",
    "        \n",
    "        for periods in years:\n",
    "            url = f'https://www.soccernews.com/soccer-transfers/{league}-transfers-{periods}/'\n",
    "            driver = webdriver.Chrome(ChromeDriverManager().install()) #driver\n",
    "            driver.get(url)\n",
    "            time.sleep(3)\n",
    "            cookie = driver.find_element(By.ID,'cn-accept-cookie').click()\n",
    "            \n",
    "            # Get data\n",
    "            columns_transfer, transfer_data = scrape_transferprice(driver,id)\n",
    "\n",
    "            df_transferprice_.append(clean_transfer(columns_transfer,transfer_data,periods))\n",
    "    \n",
    "        df_transferprice.append(pd.concat(df_transferprice_))\n",
    "\n",
    "    return pd.concat(df_transferprice)\n",
    "#     main_transfer = pd.concat(df_transferprice)\n",
    "#     print(f'Number of observations in main dataset is: {len(main_transfer)}')\n",
    "\n",
    "#     return main_transfer\n",
    "\n",
    "# main_transfer_df = get_transferprice(leagues_test,years)"
   ]
  },
  {
   "cell_type": "code",
   "execution_count": 37,
   "metadata": {},
   "outputs": [
    {
     "name": "stderr",
     "output_type": "stream",
     "text": [
      "<ipython-input-6-464de9520f3a>:10: DeprecationWarning: executable_path has been deprecated, please pass in a Service object\n",
      "  driver = webdriver.Chrome(ChromeDriverManager().install()) #driver\n",
      "<ipython-input-6-464de9520f3a>:10: DeprecationWarning: executable_path has been deprecated, please pass in a Service object\n",
      "  driver = webdriver.Chrome(ChromeDriverManager().install()) #driver\n"
     ]
    }
   ],
   "source": [
    "df_transferprice = get_transferprice(leagues_test,years_test)"
   ]
  },
  {
   "cell_type": "code",
   "execution_count": 40,
   "metadata": {},
   "outputs": [
    {
     "name": "stdout",
     "output_type": "stream",
     "text": [
      "                  Player                 From              To Price  Year\n",
      "43           Nahki Wells         Huddersfield         Burnley   5.4  2016\n",
      "44    Ezequiel Schelotto          Sporting CP        Brighton     3  2016\n",
      "46      Marvin Zeegelaar          Sporting CP         Watford     3  2016\n",
      "48         Nikola Vlasic         Hajduk Split         Everton   8.6  2016\n",
      "50          Serge Aurier                  PSG       Tottenham    25  2016\n",
      "..                   ...                  ...             ...   ...   ...\n",
      "138              Fabinho            AS Monaco       Liverpool    45  2017\n",
      "139        Florin Andone  Deportivo La Coruna        Brighton     6  2017\n",
      "141      Ricardo Pereira             FC Porto  Leicester City    22  2017\n",
      "142  Florent Hadergjonaj           Ingolstadt    Huddersfield     5  2017\n",
      "143          Jonas Lossl                Mainz    Huddersfield  2.25  2017\n",
      "\n",
      "[138 rows x 5 columns]\n"
     ]
    }
   ],
   "source": [
    "df_transferprice['Year']= pd.to_datetime(df_transferprice['Year'], format='%Y')\n",
    "df_transferprice['Year']= pd.DatetimeIndex(df_transferprice['Year']).year\n",
    "print(df_transferprice)"
   ]
  },
  {
   "cell_type": "markdown",
   "metadata": {},
   "source": [
    "### Trying to merge transfer data with statistics\n",
    "\n",
    "### **Hvis du har mod på det må du meget gerne kigge på dette, Carl Philip**\n",
    "\n",
    "De to datasæt skal merges så vi ender med et samlet datasæt med stats og transferpris"
   ]
  },
  {
   "cell_type": "code",
   "execution_count": 27,
   "metadata": {},
   "outputs": [
    {
     "name": "stdout",
     "output_type": "stream",
     "text": [
      "0       False\n",
      "1       False\n",
      "2       False\n",
      "3       False\n",
      "4       False\n",
      "        ...  \n",
      "2651    False\n",
      "2652    False\n",
      "2653    False\n",
      "2654    False\n",
      "2655    False\n",
      "Name: Player, Length: 5347, dtype: bool\n"
     ]
    }
   ],
   "source": [
    "print(stats_df['Player'] == 'Fabinho')"
   ]
  },
  {
   "cell_type": "code",
   "execution_count": 46,
   "metadata": {},
   "outputs": [],
   "source": [
    "test_stats_merge = stats_df.loc[stats_df['Player'] == 'Fabinho']"
   ]
  },
  {
   "cell_type": "code",
   "execution_count": 47,
   "metadata": {},
   "outputs": [
    {
     "data": {
      "text/html": [
       "<div>\n",
       "<style scoped>\n",
       "    .dataframe tbody tr th:only-of-type {\n",
       "        vertical-align: middle;\n",
       "    }\n",
       "\n",
       "    .dataframe tbody tr th {\n",
       "        vertical-align: top;\n",
       "    }\n",
       "\n",
       "    .dataframe thead th {\n",
       "        text-align: right;\n",
       "    }\n",
       "</style>\n",
       "<table border=\"1\" class=\"dataframe\">\n",
       "  <thead>\n",
       "    <tr style=\"text-align: right;\">\n",
       "      <th></th>\n",
       "      <th>Rk</th>\n",
       "      <th>Player</th>\n",
       "      <th>Nation</th>\n",
       "      <th>Pos</th>\n",
       "      <th>Squad</th>\n",
       "      <th>Comp</th>\n",
       "      <th>Age</th>\n",
       "      <th>Born</th>\n",
       "      <th>MP</th>\n",
       "      <th>Starts</th>\n",
       "      <th>...</th>\n",
       "      <th>xG</th>\n",
       "      <th>npxG</th>\n",
       "      <th>xA</th>\n",
       "      <th>npxG+xA</th>\n",
       "      <th>xG</th>\n",
       "      <th>xA</th>\n",
       "      <th>xG+xA</th>\n",
       "      <th>npxG</th>\n",
       "      <th>npxG+xA</th>\n",
       "      <th>Year</th>\n",
       "    </tr>\n",
       "  </thead>\n",
       "  <tbody>\n",
       "    <tr>\n",
       "      <th>778</th>\n",
       "      <td>779</td>\n",
       "      <td>Fabinho</td>\n",
       "      <td>BRA</td>\n",
       "      <td>MF</td>\n",
       "      <td>Monaco</td>\n",
       "      <td>Ligue 1</td>\n",
       "      <td>23</td>\n",
       "      <td>1993</td>\n",
       "      <td>34</td>\n",
       "      <td>34</td>\n",
       "      <td>...</td>\n",
       "      <td>5.4</td>\n",
       "      <td>2.4</td>\n",
       "      <td>3.8</td>\n",
       "      <td>6.2</td>\n",
       "      <td>0.16</td>\n",
       "      <td>0.11</td>\n",
       "      <td>0.27</td>\n",
       "      <td>0.07</td>\n",
       "      <td>0.18</td>\n",
       "      <td>2017</td>\n",
       "    </tr>\n",
       "    <tr>\n",
       "      <th>765</th>\n",
       "      <td>766</td>\n",
       "      <td>Fabinho</td>\n",
       "      <td>BRA</td>\n",
       "      <td>MF</td>\n",
       "      <td>Liverpool</td>\n",
       "      <td>Premier League</td>\n",
       "      <td>24</td>\n",
       "      <td>1993</td>\n",
       "      <td>28</td>\n",
       "      <td>21</td>\n",
       "      <td>...</td>\n",
       "      <td>0.8</td>\n",
       "      <td>0.8</td>\n",
       "      <td>1.3</td>\n",
       "      <td>2.1</td>\n",
       "      <td>0.04</td>\n",
       "      <td>0.06</td>\n",
       "      <td>0.09</td>\n",
       "      <td>0.04</td>\n",
       "      <td>0.09</td>\n",
       "      <td>2018</td>\n",
       "    </tr>\n",
       "  </tbody>\n",
       "</table>\n",
       "<p>2 rows × 34 columns</p>\n",
       "</div>"
      ],
      "text/plain": [
       "      Rk   Player Nation Pos      Squad            Comp Age  Born  MP Starts  \\\n",
       "778  779  Fabinho    BRA  MF     Monaco         Ligue 1  23  1993  34     34   \n",
       "765  766  Fabinho    BRA  MF  Liverpool  Premier League  24  1993  28     21   \n",
       "\n",
       "     ...   xG npxG   xA npxG+xA    xG    xA xG+xA  npxG npxG+xA  Year  \n",
       "778  ...  5.4  2.4  3.8     6.2  0.16  0.11  0.27  0.07    0.18  2017  \n",
       "765  ...  0.8  0.8  1.3     2.1  0.04  0.06  0.09  0.04    0.09  2018  \n",
       "\n",
       "[2 rows x 34 columns]"
      ]
     },
     "execution_count": 47,
     "metadata": {},
     "output_type": "execute_result"
    }
   ],
   "source": [
    "test_stats_merge"
   ]
  },
  {
   "cell_type": "code",
   "execution_count": 48,
   "metadata": {},
   "outputs": [],
   "source": [
    "test_transfer_merge = df_transferprice.loc[df_transferprice['Player'] == 'Fabinho']"
   ]
  },
  {
   "cell_type": "code",
   "execution_count": 18,
   "metadata": {},
   "outputs": [],
   "source": [
    "#test_transfer_merge = test_transfer_merge.iloc[0]"
   ]
  },
  {
   "cell_type": "code",
   "execution_count": 49,
   "metadata": {},
   "outputs": [],
   "source": [
    "#new_df = test_stats_merge.merge(test_transfer_merge, how='left', left_on=['Player','Year'], right_on=['Price'])\n",
    "\n",
    "new_df = test_stats_merge.merge(test_transfer_merge, how='left', on=['Player','Year'])\n",
    "\n",
    "# Nu skal der bare droppes de rows med NaN i price"
   ]
  },
  {
   "cell_type": "code",
   "execution_count": null,
   "metadata": {},
   "outputs": [
    {
     "ename": "",
     "evalue": "",
     "output_type": "error",
     "traceback": [
      "\u001b[1;31mRunning cells with 'Python 3.8.2 64-bit' requires ipykernel package.\n",
      "\u001b[1;31mRun the following command to install 'ipykernel' into the Python environment. \n",
      "\u001b[1;31mCommand: '/usr/bin/python3 -m pip install ipykernel -U --user --force-reinstall'"
     ]
    }
   ],
   "source": []
  }
 ],
 "metadata": {
  "kernelspec": {
   "display_name": "Python 3.8.5 ('base')",
   "language": "python",
   "name": "python3"
  },
  "language_info": {
   "codemirror_mode": {
    "name": "ipython",
    "version": 3
   },
   "file_extension": ".py",
   "mimetype": "text/x-python",
   "name": "python",
   "nbconvert_exporter": "python",
   "pygments_lexer": "ipython3",
   "version": "3.8.5"
  },
  "orig_nbformat": 4,
  "vscode": {
   "interpreter": {
    "hash": "d4a76e258040e71767e360a72adb6e9e30967eb0291b784ea47753a076ea40e0"
   }
  }
 },
 "nbformat": 4,
 "nbformat_minor": 2
}
