{
 "cells": [
  {
   "cell_type": "markdown",
   "metadata": {},
   "source": [
    "### Predicting transfer value of football players using ML (statistics and additional attributes)"
   ]
  },
  {
   "cell_type": "code",
   "execution_count": 129,
   "metadata": {},
   "outputs": [],
   "source": [
    "# Importing relevant libaries\n",
    "%matplotlib inline\n",
    "import numpy as np\n",
    "import pandas as pd\n",
    "import matplotlib.pyplot as plt\n",
    "from IPython.display import YouTubeVideo\n",
    "import time\n",
    "from selenium import webdriver\n",
    "from webdriver_manager.chrome import ChromeDriverManager\n",
    "from selenium.webdriver.common.keys import Keys\n",
    "from selenium.webdriver.common.by import By\n",
    "from bs4 import BeautifulSoup, NavigableString, Tag\n"
   ]
  },
  {
   "cell_type": "code",
   "execution_count": 56,
   "metadata": {},
   "outputs": [],
   "source": [
    "def scrape(driver,id):\n",
    "    '''\n",
    "    Sets up a function for scraping data based on a given driver\n",
    "\n",
    "    args: driver (defines which driver to scrape from)\n",
    "    '''\n",
    "\n",
    "    soup = BeautifulSoup(driver.page_source, 'lxml')\n",
    "    table_node = soup.find(id=id)\n",
    "\n",
    "    columns_html = table_node.thead.find_all('th')\n",
    "        # Extract the text\n",
    "    columns = []\n",
    "    for col in columns_html:\n",
    "        columns.append(col.text)\n",
    "    columns = columns[7:]\n",
    "\n",
    "    rows_list = table_node.tbody.find_all('tr')\n",
    "\n",
    "    data = []\n",
    "    fejl = []\n",
    "    for row_node in rows_list:\n",
    "        # if (rows_list.index(row_node) % 25 == 0):\n",
    "        try:\n",
    "            row = []\n",
    "            for child in row_node.children:\n",
    "                row.append(child.text)\n",
    "            data.append(row)\n",
    "        except:\n",
    "            print(rows_list.index(row_node))\n",
    "            fejl.append(rows_list.index(row_node)) # Column appear every 25th row\n",
    "    \n",
    "    return columns, data\n",
    "\n",
    "def clean_statistics(columns,data,period):\n",
    "    df_out = pd.DataFrame(data,columns=columns)\\\n",
    "        .iloc[:,:-1]\\\n",
    "        .assign(Nation= lambda x: x['Nation'].str.split(' ').str[1],\n",
    "            Pos = lambda x: x['Pos'].str.split(',').str[0], \n",
    "            Comp = lambda x: x['Comp'].str.split(None,1).str[1],\n",
    "            # Pos = lambda x: pd.Categorical(x['Pos']),\n",
    "            Squad = lambda x: pd.Categorical(x['Squad']),\n",
    "            Year = period[0:4])\n",
    "            # Nation = lambda x: pd.Categorical(x['Nation']))\n",
    "\n",
    "    return df_out"
   ]
  },
  {
   "cell_type": "code",
   "execution_count": 57,
   "metadata": {},
   "outputs": [],
   "source": [
    "def get_data(periods):\n",
    "    df_list = []\n",
    "    id = 'stats_standard'\n",
    "    for period in periods:\n",
    "\n",
    "        url = f'https://fbref.com/en/comps/Big5/{period}/stats/players/{period}-Big-5-European-Leagues-Stats'\n",
    "        # url = f'https://fbref.com/en/comps/9/{period}/stats/{period}-Premier-League-Stats'\n",
    "        driver = webdriver.Chrome(ChromeDriverManager().install()) #driver\n",
    "        driver.get(url)\n",
    "        time.sleep(3)\n",
    "        cookie = driver.find_element(By.CLASS_NAME,'qc-cmp2-summary-buttons').click()\n",
    "\n",
    "        columns, data = scrape(driver,id)\n",
    "\n",
    "        df_list.append(clean_statistics(columns, data, period))\n",
    "\n",
    "        # time.sleep(10)\n",
    "        \n",
    "    main_df = pd.concat(df_list)\n",
    "    print(f'Number of observations in main dataset is: {len(main_df)}')\n",
    "    return main_df\n"
   ]
  },
  {
   "cell_type": "code",
   "execution_count": 58,
   "metadata": {},
   "outputs": [
    {
     "name": "stderr",
     "output_type": "stream",
     "text": [
      "<ipython-input-57-0be7195a3782>:8: DeprecationWarning: executable_path has been deprecated, please pass in a Service object\n",
      "  driver = webdriver.Chrome(ChromeDriverManager().install()) #driver\n"
     ]
    },
    {
     "name": "stdout",
     "output_type": "stream",
     "text": [
      "25\n",
      "51\n",
      "77\n",
      "103\n",
      "129\n",
      "155\n",
      "181\n",
      "207\n",
      "233\n",
      "259\n",
      "285\n",
      "311\n",
      "337\n",
      "363\n",
      "389\n",
      "415\n",
      "441\n",
      "467\n",
      "493\n",
      "519\n",
      "545\n",
      "571\n",
      "597\n",
      "623\n",
      "649\n",
      "675\n",
      "701\n",
      "727\n",
      "753\n",
      "779\n",
      "805\n",
      "831\n",
      "857\n",
      "883\n",
      "909\n",
      "935\n",
      "961\n",
      "987\n",
      "1013\n",
      "1039\n",
      "1065\n",
      "1091\n",
      "1117\n",
      "1143\n",
      "1169\n",
      "1195\n",
      "1221\n",
      "1247\n",
      "1273\n",
      "1299\n",
      "1325\n",
      "1351\n",
      "1377\n",
      "1403\n",
      "1429\n",
      "1455\n",
      "1481\n",
      "1507\n",
      "1533\n",
      "1559\n",
      "1585\n",
      "1611\n",
      "1637\n",
      "1663\n",
      "1689\n",
      "1715\n",
      "1741\n",
      "1767\n",
      "1793\n",
      "1819\n",
      "1845\n",
      "1871\n",
      "1897\n",
      "1923\n",
      "1949\n",
      "1975\n",
      "2001\n",
      "2027\n",
      "2053\n",
      "2079\n",
      "2105\n",
      "2131\n",
      "2157\n",
      "2183\n",
      "2209\n",
      "2235\n",
      "2261\n",
      "2287\n",
      "2313\n",
      "2339\n",
      "2365\n",
      "2391\n",
      "2417\n",
      "2443\n",
      "2469\n",
      "2495\n",
      "2521\n",
      "2547\n",
      "2573\n",
      "2599\n",
      "2625\n",
      "2651\n",
      "2677\n",
      "2703\n",
      "2729\n",
      "2755\n",
      "Number of observations in main dataset is: 2656\n"
     ]
    }
   ],
   "source": [
    "years = ['2018-2019']\n",
    "main_df = get_data(years)"
   ]
  },
  {
   "cell_type": "code",
   "execution_count": 108,
   "metadata": {},
   "outputs": [
    {
     "name": "stderr",
     "output_type": "stream",
     "text": [
      "<ipython-input-108-b145790fc7f6>:2: DeprecationWarning: executable_path has been deprecated, please pass in a Service object\n",
      "  driver = webdriver.Chrome(ChromeDriverManager().install()) #driver\n"
     ]
    }
   ],
   "source": [
    "url = 'https://www.soccernews.com/soccer-transfers/english-premier-league-transfers-2018-2019/'\n",
    "driver = webdriver.Chrome(ChromeDriverManager().install()) #driver\n",
    "driver.get(url)\n",
    "time.sleep(3)\n",
    "cookie = driver.find_element(By.ID,'cn-accept-cookie').click()\n",
    "\n",
    "\n",
    "soup = BeautifulSoup(driver.page_source, 'lxml')\n",
    "table_node = soup.find(id='epl')\n",
    "\n",
    "columns_html = table_node.thead.find_all('th')\n",
    "    # Extract the text\n",
    "columns = []\n",
    "for col in columns_html:\n",
    "    columns.append(col.text)\n",
    "\n",
    "\n",
    "rows_list = table_node.tbody.find_all('tr')\n",
    "\n",
    "# data = []\n",
    "# fejl = []\n",
    "# for row_node in rows_list:\n",
    "#     try:\n",
    "#         row = []\n",
    "#         for child in row_node.children:\n",
    "#             row.append(child.find(text=True))\n",
    "#         data.append(row)\n",
    "#     except:\n",
    "#         print('Fejl')\n",
    "    #     print(rows_list.index(row_node))\n",
    "    #     fejl.append(rows_list.index(row_node))\n",
    "\n",
    "# columns, data = scrape(driver,'epl')"
   ]
  },
  {
   "cell_type": "code",
   "execution_count": 109,
   "metadata": {},
   "outputs": [
    {
     "name": "stdout",
     "output_type": "stream",
     "text": [
      "['When', '', 'Player', 'From', '', 'To', 'Price']\n"
     ]
    }
   ],
   "source": [
    "print(columns)"
   ]
  },
  {
   "cell_type": "code",
   "execution_count": 128,
   "metadata": {},
   "outputs": [
    {
     "name": "stdout",
     "output_type": "stream",
     "text": [
      "['When', '', 'Player', 'From', '', 'To', 'Price']\n"
     ]
    },
    {
     "ename": "AttributeError",
     "evalue": "'NavigableString' object has no attribute 'text'",
     "output_type": "error",
     "traceback": [
      "\u001b[1;31m---------------------------------------------------------------------------\u001b[0m",
      "\u001b[1;31mAttributeError\u001b[0m                            Traceback (most recent call last)",
      "\u001b[1;32m<ipython-input-128-f5bdb63af960>\u001b[0m in \u001b[0;36m<module>\u001b[1;34m\u001b[0m\n\u001b[0;32m      2\u001b[0m \u001b[0mbac\u001b[0m \u001b[1;33m=\u001b[0m \u001b[0mrows_list\u001b[0m\u001b[1;33m[\u001b[0m\u001b[1;36m0\u001b[0m\u001b[1;33m]\u001b[0m\u001b[1;33m\u001b[0m\u001b[1;33m\u001b[0m\u001b[0m\n\u001b[0;32m      3\u001b[0m \u001b[1;32mfor\u001b[0m \u001b[0mchild\u001b[0m \u001b[1;32min\u001b[0m \u001b[0mbac\u001b[0m\u001b[1;33m.\u001b[0m\u001b[0mchildren\u001b[0m\u001b[1;33m:\u001b[0m\u001b[1;33m\u001b[0m\u001b[1;33m\u001b[0m\u001b[0m\n\u001b[1;32m----> 4\u001b[1;33m     \u001b[0mprint\u001b[0m\u001b[1;33m(\u001b[0m\u001b[0mchild\u001b[0m\u001b[1;33m.\u001b[0m\u001b[0mtext\u001b[0m\u001b[1;33m)\u001b[0m\u001b[1;33m\u001b[0m\u001b[1;33m\u001b[0m\u001b[0m\n\u001b[0m\u001b[0;32m      5\u001b[0m     \u001b[1;32mtry\u001b[0m\u001b[1;33m:\u001b[0m\u001b[1;33m\u001b[0m\u001b[1;33m\u001b[0m\u001b[0m\n\u001b[0;32m      6\u001b[0m         \u001b[0mprint\u001b[0m\u001b[1;33m(\u001b[0m\u001b[1;34m''\u001b[0m\u001b[1;33m)\u001b[0m\u001b[1;33m\u001b[0m\u001b[1;33m\u001b[0m\u001b[0m\n",
      "\u001b[1;32mc:\\Users\\olive\\anaconda3\\lib\\site-packages\\bs4\\element.py\u001b[0m in \u001b[0;36m__getattr__\u001b[1;34m(self, attr)\u001b[0m\n\u001b[0;32m    914\u001b[0m             \u001b[1;32mreturn\u001b[0m \u001b[0mself\u001b[0m\u001b[1;33m\u001b[0m\u001b[1;33m\u001b[0m\u001b[0m\n\u001b[0;32m    915\u001b[0m         \u001b[1;32melse\u001b[0m\u001b[1;33m:\u001b[0m\u001b[1;33m\u001b[0m\u001b[1;33m\u001b[0m\u001b[0m\n\u001b[1;32m--> 916\u001b[1;33m             raise AttributeError(\n\u001b[0m\u001b[0;32m    917\u001b[0m                 \"'%s' object has no attribute '%s'\" % (\n\u001b[0;32m    918\u001b[0m                     self.__class__.__name__, attr))\n",
      "\u001b[1;31mAttributeError\u001b[0m: 'NavigableString' object has no attribute 'text'"
     ]
    }
   ],
   "source": [
    "for child in bac.children:\n",
    "    if isinstance(child, NavigableString):\n",
    "        continue\n",
    "    if isinstance(body_child, Tag):\n",
    "        print(body_child.name)"
   ]
  },
  {
   "cell_type": "code",
   "execution_count": 122,
   "metadata": {},
   "outputs": [
    {
     "name": "stdout",
     "output_type": "stream",
     "text": [
      "\n",
      "Leandro Bacuna\n",
      "Jan\n",
      "\n"
     ]
    }
   ],
   "source": [
    "data = []\n",
    "for row_node in bac:\n",
    "    try:\n",
    "        row = []\n",
    "        for child in row_node.children:\n",
    "            print(child.text)\n",
    "            row.append(child.text)\n",
    "        data.append(row)\n",
    "    except:\n",
    "        pass"
   ]
  },
  {
   "cell_type": "code",
   "execution_count": 121,
   "metadata": {},
   "outputs": [
    {
     "name": "stdout",
     "output_type": "stream",
     "text": [
      "[]\n"
     ]
    }
   ],
   "source": [
    "print(row)\n"
   ]
  },
  {
   "cell_type": "code",
   "execution_count": null,
   "metadata": {},
   "outputs": [],
   "source": []
  }
 ],
 "metadata": {
  "kernelspec": {
   "display_name": "Python 3.8.5 ('base')",
   "language": "python",
   "name": "python3"
  },
  "language_info": {
   "codemirror_mode": {
    "name": "ipython",
    "version": 3
   },
   "file_extension": ".py",
   "mimetype": "text/x-python",
   "name": "python",
   "nbconvert_exporter": "python",
   "pygments_lexer": "ipython3",
   "version": "3.8.5"
  },
  "orig_nbformat": 4,
  "vscode": {
   "interpreter": {
    "hash": "68e77a2019630c844ad2ed089cfeaa1ff41081e574fef0e7734cace63a14be5f"
   }
  }
 },
 "nbformat": 4,
 "nbformat_minor": 2
}
