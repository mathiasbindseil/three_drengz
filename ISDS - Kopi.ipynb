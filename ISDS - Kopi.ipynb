{
 "cells": [
  {
   "cell_type": "markdown",
   "metadata": {},
   "source": [
    "### Predicting transfer value of football players using ML (statistics and additional attributes)"
   ]
  },
  {
   "cell_type": "code",
   "execution_count": 1,
   "metadata": {},
   "outputs": [],
   "source": [
    "# Importing relevant libaries\n",
    "%matplotlib inline\n",
    "import numpy as np\n",
    "import pandas as pd\n",
    "import matplotlib.pyplot as plt\n",
    "from IPython.display import YouTubeVideo\n",
    "import time\n",
    "from selenium import webdriver\n",
    "from webdriver_manager.chrome import ChromeDriverManager\n",
    "from selenium.webdriver.common.keys import Keys\n",
    "from selenium.webdriver.common.by import By\n",
    "from bs4 import BeautifulSoup, NavigableString, Tag\n",
    "import os\n",
    "from pathlib import Path\n",
    "import seaborn as sns\n",
    "import matplotlib.pyplot as plt\n",
    "import sklearn\n",
    "from sklearn.linear_model import LinearRegression\n",
    "from sklearn.model_selection import train_test_split\n",
    "import statsmodels.api as sm"
   ]
  },
  {
   "cell_type": "code",
   "execution_count": 2,
   "metadata": {},
   "outputs": [],
   "source": [
    "#Specify relevant seasons and leagues\n",
    "years = ['2017-2018','2018-2019','2019-2020','2020-2021','2021-2022']\n",
    "leagues = ['spanish-la-liga','italian-serie-a','german-bundesliga','english-premier-league','rest-of-europe']\n",
    "stats = ['stats_standard','stats_passing','stats_defense']\n",
    "stats_to_keep = ['Player','Nation','Pos','Squad','Age','MP','Starts','Min','90s','Gls','Ast','G-PK','CrdY','CrdR','Cmp%','KP','1/3','PPA','CrsPA',\n",
    "'Prog','Tkl','TklW','Int','Err','Blocks','Tkl%','Year']\n",
    "\n",
    "#Test list\n",
    "years_test = ['2017-2018','2018-2019']\n",
    "leagues_test = ['english-premier-league']\n",
    "stats_test = ['stats_passing']"
   ]
  },
  {
   "cell_type": "code",
   "execution_count": null,
   "metadata": {},
   "outputs": [],
   "source": [
    "def scrape_stats(driver,id,id_):\n",
    "    '''\n",
    "    Function to scrape football stats from fbref\n",
    "\n",
    "    Args: \n",
    "    driver (html code): \n",
    "    id (string): Defines the table of content based on developer tool\n",
    "    id_ (string): Defines which type of stats to scrape for \n",
    "\n",
    "    Returns:\n",
    "    columns (list): Relevant columns  \n",
    "    data (list): Relevant data\n",
    "    '''\n",
    "\n",
    "    # 1. Set up beautifulsoup function in order to scrape the specified driver\n",
    "    soup = BeautifulSoup(driver.page_source, 'lxml')\n",
    "    table_node = soup.find(id=id) # Defines the tabel of content based on id \n",
    "\n",
    "    # 2. Extract columns based on 'th' and save in new list 'columns'\n",
    "    columns_html = table_node.thead.find_all('th')\n",
    "        # Extract the text\n",
    "    columns = []\n",
    "    for col in columns_html:\n",
    "        columns.append(col.text)\n",
    "\n",
    "    # 3. Due to an extra unnecessary column when scraping stats for passing and defensive a if loop is performed\n",
    "    if id_ == 'standard':\n",
    "        columns = columns[7:]\n",
    "    else:\n",
    "        columns = columns[8:]\n",
    "\n",
    "    # 4. Extract each row based on 'tr' and iterate through storing child for each row node in list 'data'\n",
    "    rows_list = table_node.tbody.find_all('tr')\n",
    "    data = []\n",
    "    for row_node in rows_list:\n",
    "        try:\n",
    "            row = []\n",
    "            for child in row_node.children:\n",
    "                row.append(child.text)\n",
    "            data.append(row)\n",
    "        except:\n",
    "            pass\n",
    "    \n",
    "    # 5. Return relevant information\n",
    "    return columns, data\n",
    "\n",
    "\n",
    "def clean_statistics(columns,data,period):\n",
    "    '''\n",
    "    Function to clean football stats\n",
    "    \n",
    "    Args:\n",
    "    columns (list): takes the columns defined by the function 'scrape_stats' as input in order to specify columns in dataframe\n",
    "    data (list): takes the columns defined by the function 'scrape_stats' as input in order to specify values in dataframe\n",
    "    period (list): creates a indicator variable in order to merge later on\n",
    "\n",
    "    Returns:\n",
    "    df_out (dataframe): Returns a clean dataframe containing all data\n",
    "    '''\n",
    "\n",
    "    # 1. Using one chain method in order to clean dataframe\n",
    "    df_out = pd.DataFrame(data,columns=columns)\\\n",
    "        .iloc[:,:-1]\\\n",
    "        .assign(Nation= lambda x: x['Nation'].str.split(' ').str[1], \n",
    "            Pos = lambda x: x['Pos'].str.split(',').str[0], \n",
    "            Comp = lambda x: x['Comp'].str.split(None,1).str[1],\n",
    "            # Pos = lambda x: pd.Categorical(x['Pos']),\n",
    "            Squad = lambda x: pd.Categorical(x['Squad']),\n",
    "            Year = period[0:4])\n",
    "            # Nation = lambda x: pd.Categorical(x['Nation']))\n",
    "\n",
    "    # 2. Return clean dataframe\n",
    "    return df_out"
   ]
  },
  {
   "cell_type": "code",
   "execution_count": null,
   "metadata": {},
   "outputs": [],
   "source": [
    "def get_stats(periods,stats):\n",
    "    '''\n",
    "    Function to combine the two functions 'scrape_stats' and 'clean_statistics\n",
    "\n",
    "    Args:\n",
    "    periods (list): Specify the choosen period for which data will be scraped\n",
    "    stats (list): Specify which stats are of interest\n",
    "\n",
    "    Returns:\n",
    "    dict (dictionary): Returns a dictionary containing dataframe for each type of stats selected by the input 'stats'\n",
    "    \n",
    "    '''\n",
    "\n",
    "\n",
    "    # 1. Creates an empty dictionary\n",
    "    dict = {}\n",
    "\n",
    "    # 2. Iterate trough each type of stats\n",
    "    for id in stats:\n",
    "        id = id # Set id equal to id choosen in loop\n",
    "        id_ = id.split('_')[-1] # Temp id variable which takes on substrin after delimiter in order to change urls\n",
    "        df_stats_ = [] # Create empty list for storing dataframes\n",
    "\n",
    "        # a. Itereate trough each period \n",
    "        for period in periods:\n",
    "            time.sleep(5) # Sleep due to request from fbref to impose a pause of at least 3 seconds between each call\n",
    "            if id.split('_')[-1] == 'standard':\n",
    "                url = f'https://fbref.com/en/comps/Big5/{period}/stats/players/{period}-Big-5-European-Leagues-Stats'\n",
    "            else:\n",
    "                url = f'https://fbref.com/en/comps/Big5/{period}/{id_}/players/{period}-Big-5-European-Leagues-Stats'\n",
    "            driver = webdriver.Chrome(ChromeDriverManager().install()) #driver\n",
    "            driver.get(url)\n",
    "            time.sleep(3)\n",
    "            cookie = driver.find_element(By.CLASS_NAME,'qc-cmp2-summary-buttons').click()\n",
    "\n",
    "            # i. Call function 'scrape_stats' in order to retreive list containing columns and data\n",
    "            columns, data = scrape_stats(driver,id,id_)\n",
    "\n",
    "            # ii. Append clean dataframe to list 'df_stats_' by calling the function 'clean_statistics'\n",
    "            df_stats_.append(clean_statistics(columns, data, period))\n",
    "\n",
    "        # b. Create dataframe for each type of stat containning statistics for all periods and store in dictionary with key equal to type of stats denoted by 'id'\n",
    "        df_concat = pd.concat(df_stats_)\n",
    "        dict[id] = df_concat\n",
    "\n",
    "    # 3. Return relevant dictionary\n",
    "    return dict\n"
   ]
  },
  {
   "cell_type": "code",
   "execution_count": null,
   "metadata": {},
   "outputs": [],
   "source": [
    "stats_dict = get_stats(years_test,stats)"
   ]
  },
  {
   "cell_type": "code",
   "execution_count": null,
   "metadata": {},
   "outputs": [],
   "source": [
    "def merge_stats(dict):\n",
    "    '''\n",
    "    Function in order to combine a dataframe containing desired statistics for each observation\n",
    "    '''\n",
    "\n",
    "    # 1. Create an empty dataframe\n",
    "    main_df = pd.DataFrame()\n",
    "\n",
    "    # 2. Unpack dictionary containing data for each type of stats\n",
    "    keys, values = [list(x) for x in zip(*dict.items())]\n",
    "    for key in keys:\n",
    "        df_ = values[keys.index(key)]\\\n",
    "            .assign(Year = lambda x: pd.to_datetime(x['Year'],format='%Y'))\n",
    "\n",
    "        # a. Combine statistics for each player based on a simple merge function on 'Player', 'Year' and 'Squad'\n",
    "        if main_df.empty:\n",
    "            main_df = df_\n",
    "        else:\n",
    "            main_df = main_df.merge(df_, how='left', on=['Player','Year','Squad'])\n",
    "\n",
    "    # 3. Clean column by removing duplicates denoted by _y\n",
    "    main_df.drop(main_df.columns[main_df.columns.str.contains('_y')], axis=1, inplace=True)\n",
    "\n",
    "    # 4. Rename instances where _x appears back to the original  \n",
    "    col_list = list(main_df.columns)\n",
    "    col_list_ = []\n",
    "    for col in col_list:\n",
    "        col_list_.append(col.replace('_x',''))\n",
    "    main_df.columns = col_list_\n",
    "\n",
    "    # 5. Final clean of data\n",
    "    main_df = main_df.loc[:, ~main_df.columns.duplicated()]\n",
    "    main_df.drop('Rk',axis=1,inplace=True)\n",
    "    main_df['Year']= pd.DatetimeIndex(main_df['Year']).year\n",
    "    # main_df = main_df[stats_to_keep]\n",
    "\n",
    "    # 6. Return main dataframe\n",
    "    return main_df"
   ]
  },
  {
   "cell_type": "code",
   "execution_count": null,
   "metadata": {},
   "outputs": [],
   "source": [
    "df_all_stats = merge_stats(get_stats(years,stats))\n"
   ]
  },
  {
   "cell_type": "code",
   "execution_count": null,
   "metadata": {},
   "outputs": [],
   "source": [
    "df_all_stats"
   ]
  },
  {
   "cell_type": "code",
   "execution_count": null,
   "metadata": {},
   "outputs": [],
   "source": [
    "# df_all_stats = df_all_stats[stats_to_keep]\n",
    "df_all_stats.head(10)\n",
    "df_all_stats.to_csv('Full_stats_df.csv')\n"
   ]
  },
  {
   "cell_type": "code",
   "execution_count": null,
   "metadata": {},
   "outputs": [],
   "source": [
    "df_list = []\n",
    "id = 'stats_passing'\n",
    "url = 'https://fbref.com/en/comps/Big5/2018-2019/passing/players/2018-2019-Big-5-European-Leagues-Stats'\n",
    "driver = webdriver.Chrome(ChromeDriverManager().install()) #driver\n",
    "driver.get(url)\n",
    "time.sleep(3)\n",
    "cookie = driver.find_element(By.CLASS_NAME,'qc-cmp2-summary-buttons').click()\n",
    "\n",
    "soup = BeautifulSoup(driver.page_source, 'lxml')\n",
    "table_node = soup.find(id=id)\n",
    "\n",
    "columns_html = table_node.thead.find_all('th')\n",
    "    # Extract the text\n",
    "columns = []\n",
    "for col in columns_html:\n",
    "    columns.append(col.text)\n",
    "# columns = columns[8:]\n",
    "print(len(columns))\n",
    "rows_list = table_node.tbody.find_all('tr')\n",
    "\n",
    "data = []\n",
    "for row_node in rows_list:\n",
    "    # if (rows_list.index(row_node) % 25 == 0):\n",
    "    try:\n",
    "        row = []\n",
    "        for child in row_node.children:\n",
    "            row.append(child.text)\n",
    "        data.append(row)\n",
    "    except:\n",
    "        pass\n",
    "\n",
    "# df_list.append(clean_statistics(columns, data, years_test))\n",
    "\n",
    "df_out = pd.DataFrame(data,columns=columns)\\\n",
    "    .iloc[:,:-1]\\\n",
    "    .assign(Nation= lambda x: x['Nation'].str.split(' ').str[1],\n",
    "        Pos = lambda x: x['Pos'].str.split(',').str[0], \n",
    "        Comp = lambda x: x['Comp'].str.split(None,1).str[1],\n",
    "        # Pos = lambda x: pd.Categorical(x['Pos']),\n",
    "        Squad = lambda x: pd.Categorical(x['Squad']))\n",
    "        # Year = period[0:4])\n",
    "# time.sleep(10)\n",
    "\n",
    "# main_df = pd.concat(df_list)\n",
    "# print(f'Number of observations in main dataset is: {len(main_df)}')\n",
    "# return main_df\n",
    "\n",
    "\n"
   ]
  },
  {
   "cell_type": "code",
   "execution_count": null,
   "metadata": {},
   "outputs": [],
   "source": [
    "test = get_standard_stats(years_test,stats_test)"
   ]
  },
  {
   "cell_type": "code",
   "execution_count": null,
   "metadata": {},
   "outputs": [],
   "source": [
    "df_stats['Year']= pd.to_datetime(df_stats['Year'], format='%Y')\n",
    "df_stats['Year']= pd.DatetimeIndex(df_stats['Year']).year\n"
   ]
  },
  {
   "cell_type": "code",
   "execution_count": null,
   "metadata": {},
   "outputs": [],
   "source": [
    "def scrape_transferprice(driver,id):\n",
    "    soup = BeautifulSoup(driver.page_source, 'lxml')\n",
    "    table_node = soup.find(id=id)\n",
    "\n",
    "    columns_html = table_node.thead.find_all('th')\n",
    "        # Extract the text\n",
    "    transfer_columns = []\n",
    "    for col in columns_html:\n",
    "        transfer_columns.append(col.text)\n",
    "\n",
    "    rows_list = table_node.tbody.find_all('tr')\n",
    "\n",
    "    transfer_data = []\n",
    "    for row_node in rows_list:\n",
    "        row = []\n",
    "        for child in row_node.children:\n",
    "            try:\n",
    "                row.append(child.text)\n",
    "            except:\n",
    "                pass\n",
    "        transfer_data.append(row)\n",
    "    \n",
    "    return transfer_columns, transfer_data\n",
    "\n",
    "def clean_transfer(columns,data,period):    \n",
    "    transfer_df = pd.DataFrame(data, columns=columns)\\\n",
    "                .assign(When = lambda x: x['When'].str.split(' ').str[0],\n",
    "                    Price = lambda x: x['Price'].str.split('(?:(.*\\d))?(?:([a-zA-Z]+))?').str[1],\n",
    "                    Player = lambda x: x['Player'].str.rsplit(' ').str[:-1].apply(' '.join),\n",
    "                    Price_ = lambda x: x['Price'].str.replace(',','').astype(float),\n",
    "                    Price_m = lambda x: (x['Price_'] > 500) * x['Price_'] * 1/1000000 + (x['Price_'] <= 500) * x['Price_'],\n",
    "                    Year = int(period[0:4])-1)\\\n",
    "                .query(\"When != 'Jan'\")\\\n",
    "                .replace(to_replace='None', value=np.nan).dropna()\n",
    "\n",
    "    transfer_df.drop(transfer_df.columns[[0,1,4,6,7]],axis=1, inplace=True)\n",
    "    # new_df['Price (m)'] = new_df['Price'].str.replace(',','').astype(float)\n",
    "    # new_df['Price (m)'] = (new_df['Price (m)'] > 500) * new_df['Price (m)'] * 1/1000000 + (new_df['Price (m)'] <= 500) * new_df['Price (m)']\n",
    "\n",
    "    return transfer_df                         "
   ]
  },
  {
   "cell_type": "code",
   "execution_count": null,
   "metadata": {},
   "outputs": [],
   "source": [
    "def get_transferprice(leagues,years):\n",
    "    id = 'feed-tabs'\n",
    "    df_transferprice = []\n",
    "    for league in leagues:\n",
    "\n",
    "        df_transferprice_ = []\n",
    "        \n",
    "        for periods in years:\n",
    "            url = f'https://www.soccernews.com/soccer-transfers/{league}-transfers-{periods}/'\n",
    "            driver = webdriver.Chrome(ChromeDriverManager().install()) #driver\n",
    "            driver.get(url)\n",
    "            # time.sleep(3)\n",
    "            # cookie = driver.find_element(By.ID,'cn-accept-cookie').click()\n",
    "            \n",
    "            # Get data\n",
    "            columns_transfer, transfer_data = scrape_transferprice(driver,id)\n",
    "\n",
    "            df_transferprice_.append(clean_transfer(columns_transfer,transfer_data,periods))\n",
    "    \n",
    "        df_transferprice.append(pd.concat(df_transferprice_))\n",
    "\n",
    "    return pd.concat(df_transferprice)\n",
    "#     main_transfer = pd.concat(df_transferprice)\n",
    "#     print(f'Number of observations in main dataset is: {len(main_transfer)}')\n",
    "\n",
    "#     return main_transfer\n",
    "\n",
    "# main_transfer_df = get_transferprice(leagues_test,years)"
   ]
  },
  {
   "cell_type": "code",
   "execution_count": null,
   "metadata": {},
   "outputs": [],
   "source": [
    "df_transferprice = get_transferprice(leagues,years)"
   ]
  },
  {
   "cell_type": "code",
   "execution_count": null,
   "metadata": {},
   "outputs": [],
   "source": [
    "df_transferprice.to_csv('Full_transfer_df.csv')"
   ]
  },
  {
   "cell_type": "code",
   "execution_count": null,
   "metadata": {},
   "outputs": [],
   "source": [
    "df_transferprice.to_csv('Transfer.csv')"
   ]
  },
  {
   "cell_type": "code",
   "execution_count": null,
   "metadata": {},
   "outputs": [],
   "source": [
    "df_transferprice['Year']= pd.to_datetime(df_transferprice['Year'], format='%Y')\n",
    "df_transferprice['Year']= pd.DatetimeIndex(df_transferprice['Year']).year\n",
    "df_transferprice.tail(10)"
   ]
  },
  {
   "cell_type": "markdown",
   "metadata": {},
   "source": [
    "### Trying to merge transfer data with statistics\n",
    "\n",
    "### **Hvis du har mod på det må du meget gerne kigge på dette, Carl Philip**\n",
    "\n",
    "De to datasæt skal merges så vi ender med et samlet datasæt med stats og transferpris"
   ]
  },
  {
   "cell_type": "code",
   "execution_count": null,
   "metadata": {},
   "outputs": [],
   "source": [
    "#new_df = test_stats_merge.merge(test_transfer_merge, how='left', left_on=['Player','Year'], right_on=['Price'])\n",
    "\n",
    "new_df = df_all_stats.merge(df_transferprice, how='left', on=['Player','Year'])\n",
    "new_df.dropna(subset=['Price_m'],inplace=True)\n",
    "\n",
    "# Nu skal der bare droppes de rows med NaN i price"
   ]
  },
  {
   "cell_type": "code",
   "execution_count": null,
   "metadata": {},
   "outputs": [],
   "source": [
    "new_df.to_csv('Main_df_til_leg.csv')"
   ]
  },
  {
   "cell_type": "code",
   "execution_count": null,
   "metadata": {},
   "outputs": [],
   "source": [
    "new_df.to_csv('til Carl Philip.csv')"
   ]
  },
  {
   "cell_type": "markdown",
   "metadata": {},
   "source": [
    "### Celle til leg med plots (Carl Philip)"
   ]
  },
  {
   "cell_type": "markdown",
   "metadata": {},
   "source": []
  },
  {
   "cell_type": "code",
   "execution_count": null,
   "metadata": {},
   "outputs": [],
   "source": [
    "# Import graphical packages\n",
    "from pathlib import Path\n",
    "import seaborn as sns\n",
    "import matplotlib.pyplot as plt\n",
    "import pandas as pd\n",
    "# sns.set_theme(style=\"white\")\n",
    "\n",
    "# Data cleaning for copy paste\n",
    "new_df=pd.read_csv(Path.cwd() / 'til Carl Philip.csv')\n",
    "new_df['Price (m)'] = new_df['Price'].str.replace(',','').astype(float)\n",
    "new_df['Price (m)'] = (new_df['Price (m)'] > 500) * new_df['Price (m)'] * 1/1000000 + (new_df['Price (m)'] <= 500) * new_df['Price (m)']\n",
    "\n",
    "# Define plot\n",
    "f,ax = plt.subplots(2,2, figsize=(16,8))\n",
    "\n",
    "# First row\n",
    "sns.boxplot(x='Year', y='Price (m)', data=new_df, hue=\"Comp\", ax=ax[0, 0]).set( xlabel = \"Year\", ylabel = \"Price\")\n",
    "sns.boxplot(x='Year', y='Price (m)', data=new_df, hue=\"Pos\", ax=ax[0, 1]).set( xlabel = \"Year\", ylabel = \"\")\n",
    "\n",
    "# Second row\n",
    "sns.regplot(x='xG', y='Price (m)', data=new_df, ax=ax[1, 0]).set( xlabel = \"Goals per game\", ylabel = \"Price\")\n",
    "sns.regplot(x='xA', y='Price (m)', data=new_df, ax=ax[1, 1]).set( xlabel = \"Asissts per game\", ylabel = \"\")\n",
    "f.tight_layout()\n",
    "\n",
    "# Create path to save figure\n",
    "fp_figs = Path.cwd() / 'figs'  \n",
    "# Use the Path object to actually create the subfolder\n",
    "Path.mkdir(fp_figs, exist_ok=True)  \n",
    "# Export for paper\n",
    "plt.savefig('figs/pic1.png')\n",
    "\n",
    "\n"
   ]
  },
  {
   "cell_type": "code",
   "execution_count": null,
   "metadata": {},
   "outputs": [],
   "source": [
    "new_df.to_csv('sdgsgs.csv')"
   ]
  },
  {
   "cell_type": "markdown",
   "metadata": {},
   "source": [
    "# **Celle til Oliver**"
   ]
  },
  {
   "cell_type": "code",
   "execution_count": 3,
   "metadata": {},
   "outputs": [
    {
     "name": "stdout",
     "output_type": "stream",
     "text": [
      "                                 OLS Regression Results                                \n",
      "=======================================================================================\n",
      "Dep. Variable:                Price_m   R-squared (uncentered):                   0.880\n",
      "Model:                            OLS   Adj. R-squared (uncentered):              0.875\n",
      "Method:                 Least Squares   F-statistic:                              184.5\n",
      "Date:                Wed, 17 Aug 2022   Prob (F-statistic):                   1.10e-163\n",
      "Time:                        09:51:31   Log-Likelihood:                         -500.06\n",
      "No. Observations:                 394   AIC:                                      1030.\n",
      "Df Residuals:                     379   BIC:                                      1090.\n",
      "Df Model:                          15                                                  \n",
      "Covariance Type:            nonrobust                                                  \n",
      "=======================================================================================\n",
      "                          coef    std err          t      P>|t|      [0.025      0.975]\n",
      "---------------------------------------------------------------------------------------\n",
      "Age                    -0.0942      0.012     -7.986      0.000      -0.117      -0.071\n",
      "Ast                     0.0852      0.021      3.968      0.000       0.043       0.127\n",
      "G-PK                    0.1056      0.017      6.335      0.000       0.073       0.138\n",
      "CrdY                   -0.0280      0.020     -1.387      0.166      -0.068       0.012\n",
      "CrdR                   -0.1026      0.117     -0.876      0.382      -0.333       0.128\n",
      "Cmp%                    0.0434      0.004     11.935      0.000       0.036       0.051\n",
      "1/3                     0.0050      0.001      3.893      0.000       0.002       0.008\n",
      "Int                     0.0036      0.004      0.860      0.391      -0.005       0.012\n",
      "Tkl%                    0.0061      0.003      2.088      0.037       0.000       0.012\n",
      "Pos_FW                  0.4760      0.142      3.357      0.001       0.197       0.755\n",
      "Pos_MF                  0.0567      0.121      0.468      0.640      -0.181       0.295\n",
      "Comp_La Liga           -0.0344      0.141     -0.244      0.808      -0.312       0.243\n",
      "Comp_Ligue 1           -0.1678      0.143     -1.170      0.243      -0.450       0.114\n",
      "Comp_Premier League     0.4792      0.149      3.212      0.001       0.186       0.773\n",
      "Comp_Serie A            0.0163      0.140      0.116      0.907      -0.259       0.292\n",
      "==============================================================================\n",
      "Omnibus:                       19.184   Durbin-Watson:                   1.957\n",
      "Prob(Omnibus):                  0.000   Jarque-Bera (JB):               22.125\n",
      "Skew:                          -0.471   Prob(JB):                     1.57e-05\n",
      "Kurtosis:                       3.679   Cond. No.                         559.\n",
      "==============================================================================\n",
      "\n",
      "Notes:\n",
      "[1] R² is computed without centering (uncentered) since the model does not contain a constant.\n",
      "[2] Standard Errors assume that the covariance matrix of the errors is correctly specified.\n",
      "0.8001299317946904\n"
     ]
    }
   ],
   "source": [
    "modeldata=pd.read_csv('Main_df_til_leg.csv')\n",
    "modeldata_v2=pd.read_csv('Main_df_til_leg.csv')\n",
    "# Define all variables needed in analysis\n",
    "stats_to_keep_original = ['Pos','Age','MP','Starts','Min','90s','Gls','Ast','G-PK','CrdY','CrdR','Cmp%','KP','1/3','PPA','CrsPA',\n",
    "'Prog','Tkl','TklW','Int','Err','Blocks','Tkl%','Comp','Price_m']\n",
    "\n",
    "\n",
    "\n",
    "all_variables = ['Pos','Age','Ast','G-PK','CrdY','CrdR','Cmp%','1/3',\n",
    "'Int','Tkl%', 'Price_m','Comp']\n",
    "# Filter so only variables need in analysis included\n",
    "modeldata = modeldata[all_variables]\n",
    "\n",
    "# Delete GK\n",
    "modeldata = modeldata[modeldata.Pos != 'GK']\n",
    "\n",
    "# Convert position and competiion to dummies\n",
    "positioncolumn = ['Pos','Comp']\n",
    "modeldata= pd.get_dummies(modeldata, columns=positioncolumn,drop_first=True)\n",
    "# Convert minutes to float\n",
    "# modeldata['Min'] = modeldata['Min'].str.replace(',','')\n",
    "\n",
    "# FIll nan with zeroes (nan only present when the playes has had in fact zero)\n",
    "modeldata = modeldata.fillna(0)\n",
    "\n",
    "# Convert to float\n",
    "modeldata = modeldata.astype(float)\n",
    "\n",
    "# # Define y and x\n",
    "# y = modeldata['Price_m']\n",
    "y = np.log(modeldata['Price_m'])\n",
    "X = modeldata.loc[:, modeldata.columns != 'Price_m']\n",
    "\n",
    "olsmod = sm.OLS(y, X)\n",
    "X = sm.add_constant(X)\n",
    "olsres = olsmod.fit()\n",
    "print(olsres.summary())\n",
    "\n",
    "\n",
    "\n",
    "\n",
    "# MSE\n",
    "from sklearn.linear_model import LinearRegression\n",
    "from sklearn.metrics import mean_squared_error as mse\n",
    "\n",
    "\n",
    "def rmse(y_pred, y_true):\n",
    "    return np.sqrt(mse(y_pred, y_true))\n",
    "\n",
    "X_dev, X_test, y_dev, y_test = train_test_split(X, y, test_size=1/3, random_state=1)    \n",
    "# X_train, X_val, y_train, y_val = train_test_split(X_dev, y_dev, test_size=1/2)\n",
    "\n",
    "reg = LinearRegression().fit(X_dev, y_dev)\n",
    "pred = reg.predict(X_test)\n",
    "\n",
    "mse_val = rmse(reg.predict(X_dev), y_dev)\n",
    "\n",
    "print(mse_val)\n"
   ]
  },
  {
   "cell_type": "code",
   "execution_count": null,
   "metadata": {},
   "outputs": [],
   "source": [
    "# from matplotlib.pyplot import figure\n",
    "# corr_matrix = X.corr()\n",
    "# corr_matrix\n",
    "\n",
    "# figure(figsize=(15,10), dpi=100)\n",
    "# sns.heatmap(corr_matrix, annot=True, cmap='YlGnBu',fmt=\".1f\")\n",
    "\n",
    "# fp_figs = Path.cwd() / 'figs'  \n",
    "# # Use the Path object to actually create the subfolder\n",
    "# Path.mkdir(fp_figs, exist_ok=True)  \n",
    "# # Export for paper\n",
    "# plt.savefig('figs/heatmap_v2.png')\n",
    "\n",
    "\n",
    "\n",
    "# corr_matrix = X_1.corr()\n",
    "# corr_matrix\n",
    "\n",
    "# figure(figsize=(15,10), dpi=100)\n",
    "# sns.heatmap(corr_matrix, annot=True, cmap='YlGnBu',fmt=\".1f\")\n",
    "\n",
    "# fp_figs = Path.cwd() / 'figs'  \n",
    "# # Use the Path object to actually create the subfolder\n",
    "# Path.mkdir(fp_figs, exist_ok=True)  \n",
    "# # Export for paper\n",
    "# plt.savefig('figs/heatmap_v1.png')\n",
    "\n",
    "# PosValue = df.groupby(['Position'])['NetValue'].mean().reset_index()\n",
    "# sns.barplot(x = 'Position',y='NetValue',data=PosValue)     \n",
    "# plt.ylabel('Net Value - Million € ')\n",
    "\n",
    "# df['AgeNorm']= (40-df['Age'])**2\n",
    "\n"
   ]
  },
  {
   "cell_type": "code",
   "execution_count": null,
   "metadata": {},
   "outputs": [],
   "source": [
    "GroupedData=modeldata_v2.groupby(by='Pos').size()\n",
    "print(GroupedData)\n",
    " \n",
    "# Generating a bar chart for a single column\n",
    "%matplotlib inline\n",
    "GroupedData.plot.bar()"
   ]
  },
  {
   "cell_type": "code",
   "execution_count": null,
   "metadata": {},
   "outputs": [],
   "source": [
    "from sklearn.linear_model import LinearRegression\n",
    "from sklearn.metrics import mean_squared_error as mse\n",
    "\n",
    "def rmse(y_pred, y_true):\n",
    "    return np.sqrt(mse(y_pred, y_true))\n",
    "\n",
    "output = []\n",
    "\n",
    "for random_state in range(10):\n",
    "    X_dev, X_test, y_dev, y_test = train_test_split(X, y, test_size=1/3, random_state=random_state)    \n",
    "    X_train, X_val, y_train, y_val = train_test_split(X_dev, y_dev, test_size=1/2, random_state=random_state)\n",
    "\n",
    "    reg = LinearRegression().fit(X_train, y_train)\n",
    "    reg.predict(X_test)\n",
    "\n",
    "    output.append([rmse(reg.predict(X_val), y_val),\n",
    "                   rmse(reg.predict(X_test), y_test)])\n",
    "\n",
    "\n",
    "\n",
    "    \n",
    "pd.DataFrame(output, columns=['test', 'validation']).describe()"
   ]
  },
  {
   "cell_type": "markdown",
   "metadata": {},
   "source": [
    "# **Celle til Carl Philip**"
   ]
  },
  {
   "cell_type": "code",
   "execution_count": 4,
   "metadata": {},
   "outputs": [],
   "source": [
    "import sklearn\n",
    "from sklearn.linear_model import LinearRegression"
   ]
  },
  {
   "cell_type": "markdown",
   "metadata": {},
   "source": [
    "# **Lasso Regression**\n"
   ]
  },
  {
   "cell_type": "code",
   "execution_count": 5,
   "metadata": {},
   "outputs": [
    {
     "data": {
      "image/png": "[encoded data removed]",
      "text/plain": [
       "<Figure size 432x288 with 1 Axes>"
      ]
     },
     "metadata": {
      "needs_background": "light"
     },
     "output_type": "display_data"
    }
   ],
   "source": [
    "from sklearn.model_selection import validation_curve\n",
    "from sklearn.linear_model import Lasso\n",
    "from sklearn.pipeline import make_pipeline\n",
    "from sklearn.preprocessing import StandardScaler, PolynomialFeatures\n",
    "from sklearn.model_selection import train_test_split\n",
    "from sklearn.exceptions import ConvergenceWarning\n",
    "import warnings\n",
    "warnings.filterwarnings(action='ignore', category=ConvergenceWarning)\n",
    "\n",
    "\n",
    "\n",
    "# We split the data set into training and test\n",
    "\n",
    "X_dev, X_test, y_dev, y_test = train_test_split(X, y, test_size=1/3, random_state=2)    \n",
    "X_train, X_val, y_train, y_val = train_test_split(X_dev, y_dev, test_size=1/2, random_state=2)\n",
    "\n",
    "# Make pipeline for Lasso\n",
    "\n",
    "pipe_lasso = make_pipeline(PolynomialFeatures(degree=3, include_bias=False),                           \n",
    "                           StandardScaler(),\n",
    "                           Lasso(random_state=1,))\n",
    "\n",
    "# Define range of lambdas\n",
    "lambdas =  np.logspace(-4, 4, 24)\n",
    "\n",
    "# Get train and test scores for different lambdas\n",
    "\n",
    "train_scores, test_scores = \\\n",
    "    validation_curve(estimator=pipe_lasso,\n",
    "                     X=X_dev,\n",
    "                     y=y_dev,\n",
    "                     param_name='lasso__alpha',\n",
    "                     param_range=lambdas,\n",
    "                     scoring='neg_mean_squared_error',# scoring='neg_mean_squared_error',                 \n",
    "                     cv=5)\n",
    "\n",
    "# Get mean of mse for lambdas\n",
    "\n",
    "mean_values = pd.concat({'train': pd.DataFrame(-train_scores).mean(1), \n",
    "                         'test': pd.DataFrame(-test_scores).mean(1), \n",
    "                         'lambda': pd.DataFrame(lambdas).mean(1)}, axis =1)\n",
    "\n",
    "# Plot the train and test scores for different values of lambda\n",
    "\n",
    "pd.concat({'train': pd.DataFrame(-train_scores).mean(1), \n",
    "           'test': pd.DataFrame(-test_scores).mean(1)},\n",
    "           axis=1)\\\n",
    "    .pipe(np.sqrt)\\\n",
    "    .set_index(pd.Index(lambdas, name='lambda'))\\\n",
    "    .plot(logx=True, logy=True)\n",
    "\n",
    "plt.show()"
   ]
  },
  {
   "cell_type": "code",
   "execution_count": 18,
   "metadata": {},
   "outputs": [
    {
     "name": "stdout",
     "output_type": "stream",
     "text": [
      "{'lasso__alpha': 0.06061898993497572} -0.7343046664361508\n"
     ]
    }
   ],
   "source": [
    "# Another method to identify best lambda to minimze mse\n",
    "\n",
    "from sklearn.model_selection import GridSearchCV\n",
    "\n",
    "gs = GridSearchCV(estimator=pipe_lasso, \n",
    "                  param_grid=[{'lasso__alpha':lambdas}], \n",
    "                  scoring='neg_mean_squared_error', \n",
    "                  cv=5, \n",
    "                  n_jobs=-1)\n",
    "\n",
    "gs = gs.fit(X_dev, y_dev)\n",
    "print(gs.best_params_, gs.best_score_ )"
   ]
  },
  {
   "cell_type": "markdown",
   "metadata": {},
   "source": [
    "# **Ridge Regression**"
   ]
  },
  {
   "cell_type": "code",
   "execution_count": 15,
   "metadata": {},
   "outputs": [
    {
     "data": {
      "image/png": "[encoded data removed]",
      "text/plain": [
       "<Figure size 432x288 with 1 Axes>"
      ]
     },
     "metadata": {
      "needs_background": "light"
     },
     "output_type": "display_data"
    }
   ],
   "source": [
    "from sklearn.linear_model import Ridge\n",
    "\n",
    "# Make pipeline for Ridge\n",
    "\n",
    "pipe_ridge = make_pipeline(PolynomialFeatures(degree=2, include_bias=False),                           \n",
    "                           StandardScaler(),\n",
    "                           Ridge(random_state=1,))\n",
    "\n",
    "# Get train and test scores for different lambdas\n",
    "\n",
    "train_scores, test_scores = \\\n",
    "    validation_curve(estimator=pipe_ridge,\n",
    "                     X=X_dev,\n",
    "                     y=y_dev,\n",
    "                     param_name='ridge__alpha',\n",
    "                     param_range=lambdas,\n",
    "                     scoring='neg_mean_squared_error',# scoring='neg_mean_squared_error',                 \n",
    "                     cv=5)\n",
    "\n",
    "# Get mean of mse for lambdas\n",
    "\n",
    "mean_values = pd.concat({'train': pd.DataFrame(-train_scores).mean(1), \n",
    "                         'test': pd.DataFrame(-test_scores).mean(1), \n",
    "                         'lambda': pd.DataFrame(lambdas).mean(1)}, axis =1)\n",
    "\n",
    "# Plot the train and test scores for different values of lambda\n",
    "\n",
    "pd.concat({'train': pd.DataFrame(-train_scores).mean(1), \n",
    "           'test': pd.DataFrame(-test_scores).mean(1)},\n",
    "           axis=1)\\\n",
    "    .pipe(np.sqrt)\\\n",
    "    .set_index(pd.Index(lambdas, name='lambda'))\\\n",
    "    .plot(logx=True, logy=True)\n",
    "\n",
    "plt.show()"
   ]
  },
  {
   "cell_type": "code",
   "execution_count": 17,
   "metadata": {},
   "outputs": [
    {
     "name": "stdout",
     "output_type": "stream",
     "text": [
      "{'ridge__alpha': 182.33480008684387} -0.72617099179858\n"
     ]
    }
   ],
   "source": [
    "# Another method to identify best lambda to minimze mse\n",
    "\n",
    "gs = GridSearchCV(estimator=pipe_ridge, \n",
    "                  param_grid=[{'ridge__alpha':lambdas}], \n",
    "                  scoring='neg_mean_squared_error', \n",
    "                  cv=5, \n",
    "                  n_jobs=-1)\n",
    "\n",
    "\n",
    "gs = gs.fit(X_dev, y_dev)\n",
    "print(gs.best_params_, gs.best_score_ )\n"
   ]
  }
 ],
 "metadata": {
  "kernelspec": {
   "display_name": "Python 3.8.5 ('base')",
   "language": "python",
   "name": "python3"
  },
  "language_info": {
   "codemirror_mode": {
    "name": "ipython",
    "version": 3
   },
   "file_extension": ".py",
   "mimetype": "text/x-python",
   "name": "python",
   "nbconvert_exporter": "python",
   "pygments_lexer": "ipython3",
   "version": "3.8.5"
  },
  "orig_nbformat": 4,
  "vscode": {
   "interpreter": {
    "hash": "68e77a2019630c844ad2ed089cfeaa1ff41081e574fef0e7734cace63a14be5f"
   }
  }
 },
 "nbformat": 4,
 "nbformat_minor": 2
}
